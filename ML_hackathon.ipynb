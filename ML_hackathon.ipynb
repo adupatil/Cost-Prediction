{
 "cells": [
  {
   "cell_type": "code",
   "execution_count": 50,
   "id": "noble-weekly",
   "metadata": {},
   "outputs": [],
   "source": [
    "import numpy as np\n",
    "import pandas as pd\n",
    "import matplotlib.pyplot as plt\n",
    "import seaborn as sns\n",
    "%matplotlib inline\n",
    "import random as r"
   ]
  },
  {
   "cell_type": "code",
   "execution_count": 133,
   "id": "qualified-omega",
   "metadata": {},
   "outputs": [],
   "source": [
    "train = pd.read_csv(\"train.csv\")"
   ]
  },
  {
   "cell_type": "code",
   "execution_count": 134,
   "id": "saving-astronomy",
   "metadata": {},
   "outputs": [
    {
     "data": {
      "text/html": [
       "<div>\n",
       "<style scoped>\n",
       "    .dataframe tbody tr th:only-of-type {\n",
       "        vertical-align: middle;\n",
       "    }\n",
       "\n",
       "    .dataframe tbody tr th {\n",
       "        vertical-align: top;\n",
       "    }\n",
       "\n",
       "    .dataframe thead th {\n",
       "        text-align: right;\n",
       "    }\n",
       "</style>\n",
       "<table border=\"1\" class=\"dataframe\">\n",
       "  <thead>\n",
       "    <tr style=\"text-align: right;\">\n",
       "      <th></th>\n",
       "      <th>Customer Id</th>\n",
       "      <th>Artist Name</th>\n",
       "      <th>Artist Reputation</th>\n",
       "      <th>Height</th>\n",
       "      <th>Width</th>\n",
       "      <th>Weight</th>\n",
       "      <th>Material</th>\n",
       "      <th>Price Of Sculpture</th>\n",
       "      <th>Base Shipping Price</th>\n",
       "      <th>International</th>\n",
       "      <th>Express Shipment</th>\n",
       "      <th>Installation Included</th>\n",
       "      <th>Transport</th>\n",
       "      <th>Fragile</th>\n",
       "      <th>Customer Information</th>\n",
       "      <th>Remote Location</th>\n",
       "      <th>Scheduled Date</th>\n",
       "      <th>Delivery Date</th>\n",
       "      <th>Customer Location</th>\n",
       "      <th>Cost</th>\n",
       "    </tr>\n",
       "  </thead>\n",
       "  <tbody>\n",
       "    <tr>\n",
       "      <th>0</th>\n",
       "      <td>fffe3900350033003300</td>\n",
       "      <td>Billy Jenkins</td>\n",
       "      <td>0.26</td>\n",
       "      <td>17.0</td>\n",
       "      <td>6.0</td>\n",
       "      <td>4128.0</td>\n",
       "      <td>Brass</td>\n",
       "      <td>13.91</td>\n",
       "      <td>16.27</td>\n",
       "      <td>Yes</td>\n",
       "      <td>Yes</td>\n",
       "      <td>No</td>\n",
       "      <td>Airways</td>\n",
       "      <td>No</td>\n",
       "      <td>Working Class</td>\n",
       "      <td>No</td>\n",
       "      <td>06/07/15</td>\n",
       "      <td>06/03/15</td>\n",
       "      <td>New Michelle, OH 50777</td>\n",
       "      <td>-283.29</td>\n",
       "    </tr>\n",
       "    <tr>\n",
       "      <th>1</th>\n",
       "      <td>fffe3800330031003900</td>\n",
       "      <td>Jean Bryant</td>\n",
       "      <td>0.28</td>\n",
       "      <td>3.0</td>\n",
       "      <td>3.0</td>\n",
       "      <td>61.0</td>\n",
       "      <td>Brass</td>\n",
       "      <td>6.83</td>\n",
       "      <td>15.00</td>\n",
       "      <td>No</td>\n",
       "      <td>No</td>\n",
       "      <td>No</td>\n",
       "      <td>Roadways</td>\n",
       "      <td>No</td>\n",
       "      <td>Working Class</td>\n",
       "      <td>No</td>\n",
       "      <td>03/06/17</td>\n",
       "      <td>03/05/17</td>\n",
       "      <td>New Michaelport, WY 12072</td>\n",
       "      <td>-159.96</td>\n",
       "    </tr>\n",
       "    <tr>\n",
       "      <th>2</th>\n",
       "      <td>fffe3600370035003100</td>\n",
       "      <td>Laura Miller</td>\n",
       "      <td>0.07</td>\n",
       "      <td>8.0</td>\n",
       "      <td>5.0</td>\n",
       "      <td>237.0</td>\n",
       "      <td>Clay</td>\n",
       "      <td>4.96</td>\n",
       "      <td>21.18</td>\n",
       "      <td>No</td>\n",
       "      <td>No</td>\n",
       "      <td>No</td>\n",
       "      <td>Roadways</td>\n",
       "      <td>Yes</td>\n",
       "      <td>Working Class</td>\n",
       "      <td>Yes</td>\n",
       "      <td>03/09/15</td>\n",
       "      <td>03/08/15</td>\n",
       "      <td>Bowmanshire, WA 19241</td>\n",
       "      <td>-154.29</td>\n",
       "    </tr>\n",
       "    <tr>\n",
       "      <th>3</th>\n",
       "      <td>fffe350031003300</td>\n",
       "      <td>Robert Chaires</td>\n",
       "      <td>0.12</td>\n",
       "      <td>9.0</td>\n",
       "      <td>NaN</td>\n",
       "      <td>NaN</td>\n",
       "      <td>Aluminium</td>\n",
       "      <td>5.81</td>\n",
       "      <td>16.31</td>\n",
       "      <td>No</td>\n",
       "      <td>No</td>\n",
       "      <td>No</td>\n",
       "      <td>NaN</td>\n",
       "      <td>No</td>\n",
       "      <td>Wealthy</td>\n",
       "      <td>Yes</td>\n",
       "      <td>05/24/15</td>\n",
       "      <td>05/20/15</td>\n",
       "      <td>East Robyn, KY 86375</td>\n",
       "      <td>-161.16</td>\n",
       "    </tr>\n",
       "    <tr>\n",
       "      <th>4</th>\n",
       "      <td>fffe3900320038003400</td>\n",
       "      <td>Rosalyn Krol</td>\n",
       "      <td>0.15</td>\n",
       "      <td>17.0</td>\n",
       "      <td>6.0</td>\n",
       "      <td>324.0</td>\n",
       "      <td>Aluminium</td>\n",
       "      <td>3.18</td>\n",
       "      <td>11.94</td>\n",
       "      <td>Yes</td>\n",
       "      <td>Yes</td>\n",
       "      <td>Yes</td>\n",
       "      <td>Airways</td>\n",
       "      <td>No</td>\n",
       "      <td>Working Class</td>\n",
       "      <td>No</td>\n",
       "      <td>12/18/16</td>\n",
       "      <td>12/14/16</td>\n",
       "      <td>Aprilside, PA 52793</td>\n",
       "      <td>-159.23</td>\n",
       "    </tr>\n",
       "  </tbody>\n",
       "</table>\n",
       "</div>"
      ],
      "text/plain": [
       "            Customer Id     Artist Name  Artist Reputation  Height  Width  \\\n",
       "0  fffe3900350033003300   Billy Jenkins               0.26    17.0    6.0   \n",
       "1  fffe3800330031003900     Jean Bryant               0.28     3.0    3.0   \n",
       "2  fffe3600370035003100    Laura Miller               0.07     8.0    5.0   \n",
       "3      fffe350031003300  Robert Chaires               0.12     9.0    NaN   \n",
       "4  fffe3900320038003400    Rosalyn Krol               0.15    17.0    6.0   \n",
       "\n",
       "   Weight   Material  Price Of Sculpture  Base Shipping Price International  \\\n",
       "0  4128.0      Brass               13.91                16.27           Yes   \n",
       "1    61.0      Brass                6.83                15.00            No   \n",
       "2   237.0       Clay                4.96                21.18            No   \n",
       "3     NaN  Aluminium                5.81                16.31            No   \n",
       "4   324.0  Aluminium                3.18                11.94           Yes   \n",
       "\n",
       "  Express Shipment Installation Included Transport Fragile  \\\n",
       "0              Yes                    No   Airways      No   \n",
       "1               No                    No  Roadways      No   \n",
       "2               No                    No  Roadways     Yes   \n",
       "3               No                    No       NaN      No   \n",
       "4              Yes                   Yes   Airways      No   \n",
       "\n",
       "  Customer Information Remote Location Scheduled Date Delivery Date  \\\n",
       "0        Working Class              No       06/07/15      06/03/15   \n",
       "1        Working Class              No       03/06/17      03/05/17   \n",
       "2        Working Class             Yes       03/09/15      03/08/15   \n",
       "3              Wealthy             Yes       05/24/15      05/20/15   \n",
       "4        Working Class              No       12/18/16      12/14/16   \n",
       "\n",
       "           Customer Location    Cost  \n",
       "0     New Michelle, OH 50777 -283.29  \n",
       "1  New Michaelport, WY 12072 -159.96  \n",
       "2      Bowmanshire, WA 19241 -154.29  \n",
       "3       East Robyn, KY 86375 -161.16  \n",
       "4        Aprilside, PA 52793 -159.23  "
      ]
     },
     "execution_count": 134,
     "metadata": {},
     "output_type": "execute_result"
    }
   ],
   "source": [
    "train.head()"
   ]
  },
  {
   "cell_type": "markdown",
   "id": "color-amount",
   "metadata": {},
   "source": [
    "<h2>Data cleaning </h2>"
   ]
  },
  {
   "cell_type": "code",
   "execution_count": 148,
   "id": "optional-pioneer",
   "metadata": {},
   "outputs": [
    {
     "data": {
      "text/plain": [
       "<AxesSubplot:>"
      ]
     },
     "execution_count": 148,
     "metadata": {},
     "output_type": "execute_result"
    },
    {
     "data": {
      "image/png": "[encoded data removed]",
      "text/plain": [
       "<Figure size 432x288 with 1 Axes>"
      ]
     },
     "metadata": {
      "needs_background": "light"
     },
     "output_type": "display_data"
    }
   ],
   "source": [
    "sns.heatmap(train.isnull(),cbar=False,yticklabels=False)"
   ]
  },
  {
   "cell_type": "code",
   "execution_count": 136,
   "id": "hidden-shopping",
   "metadata": {},
   "outputs": [],
   "source": [
    "train.drop('Transport',axis=1,inplace=True)"
   ]
  },
  {
   "cell_type": "code",
   "execution_count": 30,
   "id": "respective-repeat",
   "metadata": {},
   "outputs": [],
   "source": [
    "def impute_artist(cols):\n",
    "    if pd.isnull(cols):\n",
    "        return train['Artist Reputation'].mean()\n",
    "    else:\n",
    "        return cols"
   ]
  },
  {
   "cell_type": "code",
   "execution_count": 137,
   "id": "armed-injection",
   "metadata": {},
   "outputs": [],
   "source": [
    "train['Artist Reputation']=train['Artist Reputation'].apply(impute_artist)"
   ]
  },
  {
   "cell_type": "code",
   "execution_count": 38,
   "id": "matched-naples",
   "metadata": {},
   "outputs": [],
   "source": [
    "def impute_width(cols):\n",
    "    if pd.isnull(cols):\n",
    "        return train['Width'].mean()\n",
    "    else:\n",
    "        return cols"
   ]
  },
  {
   "cell_type": "code",
   "execution_count": 143,
   "id": "single-scratch",
   "metadata": {},
   "outputs": [],
   "source": [
    "train['Weight'] = train['Weight'].apply(impute_weight)"
   ]
  },
  {
   "cell_type": "code",
   "execution_count": 44,
   "id": "seventh-station",
   "metadata": {},
   "outputs": [
    {
     "data": {
      "text/plain": [
       "Brass        847\n",
       "Aluminium    845\n",
       "Bronze       821\n",
       "Marble       819\n",
       "Wood         816\n",
       "Clay         816\n",
       "Stone        772\n",
       "Name: Material, dtype: int64"
      ]
     },
     "execution_count": 44,
     "metadata": {},
     "output_type": "execute_result"
    }
   ],
   "source": [
    "train['Material'].value_counts()"
   ]
  },
  {
   "cell_type": "code",
   "execution_count": 51,
   "id": "deluxe-customer",
   "metadata": {},
   "outputs": [],
   "source": [
    "def impute_material(cols):\n",
    "    L=['Brass','Alumininum','Bronze','Marble','Wood','Clay','Stone']\n",
    "    i=r.randint(0,6)\n",
    "    if pd.isnull(cols):\n",
    "        return L[i]\n",
    "    else:\n",
    "        return cols"
   ]
  },
  {
   "cell_type": "code",
   "execution_count": 145,
   "id": "large-document",
   "metadata": {},
   "outputs": [],
   "source": [
    "train['Material'] = train['Material'].apply(impute_material)"
   ]
  },
  {
   "cell_type": "code",
   "execution_count": 147,
   "id": "secondary-reggae",
   "metadata": {},
   "outputs": [],
   "source": [
    "train.drop('Remote Location',axis=1,inplace=True)"
   ]
  },
  {
   "cell_type": "markdown",
   "id": "faced-completion",
   "metadata": {},
   "source": [
    "<h2>Exploritory data analysis </h2>"
   ]
  },
  {
   "cell_type": "code",
   "execution_count": 59,
   "id": "successful-legislature",
   "metadata": {},
   "outputs": [
    {
     "data": {
      "text/plain": [
       "Index(['Customer Id', 'Artist Name', 'Artist Reputation', 'Height', 'Width',\n",
       "       'Weight', 'Material', 'Price Of Sculpture', 'Base Shipping Price',\n",
       "       'International', 'Express Shipment', 'Installation Included', 'Fragile',\n",
       "       'Customer Information', 'Scheduled Date', 'Delivery Date',\n",
       "       'Customer Location', 'Cost'],\n",
       "      dtype='object')"
      ]
     },
     "execution_count": 59,
     "metadata": {},
     "output_type": "execute_result"
    }
   ],
   "source": [
    "train.columns"
   ]
  },
  {
   "cell_type": "code",
   "execution_count": 61,
   "id": "disabled-wholesale",
   "metadata": {},
   "outputs": [
    {
     "data": {
      "text/plain": [
       "<AxesSubplot:xlabel='Artist Reputation', ylabel='Price Of Sculpture'>"
      ]
     },
     "execution_count": 61,
     "metadata": {},
     "output_type": "execute_result"
    },
    {
     "data": {
      "image/png": "[encoded data removed]",
      "text/plain": [
       "<Figure size 432x288 with 1 Axes>"
      ]
     },
     "metadata": {
      "needs_background": "light"
     },
     "output_type": "display_data"
    }
   ],
   "source": [
    "sns.scatterplot(x='Artist Reputation',y='Price Of Sculpture',hue='Cost',data=train)"
   ]
  },
  {
   "cell_type": "code",
   "execution_count": 62,
   "id": "accredited-medicine",
   "metadata": {},
   "outputs": [
    {
     "data": {
      "text/plain": [
       "<AxesSubplot:xlabel='Base Shipping Price', ylabel='Price Of Sculpture'>"
      ]
     },
     "execution_count": 62,
     "metadata": {},
     "output_type": "execute_result"
    },
    {
     "data": {
      "image/png": "[encoded data removed]",
      "text/plain": [
       "<Figure size 432x288 with 1 Axes>"
      ]
     },
     "metadata": {
      "needs_background": "light"
     },
     "output_type": "display_data"
    }
   ],
   "source": [
    "sns.scatterplot(x='Base Shipping Price',y='Price Of Sculpture',hue='Cost',data=train)"
   ]
  },
  {
   "cell_type": "markdown",
   "id": "advance-findings",
   "metadata": {},
   "source": [
    "<h2>Converting categorical data to num </h2>"
   ]
  },
  {
   "cell_type": "code",
   "execution_count": 79,
   "id": "lesbian-messaging",
   "metadata": {},
   "outputs": [],
   "source": [
    "intern = pd.get_dummies(data=train['International'],drop_first=True,prefix='intern')"
   ]
  },
  {
   "cell_type": "code",
   "execution_count": 81,
   "id": "japanese-helena",
   "metadata": {},
   "outputs": [],
   "source": [
    "install = pd.get_dummies(data=train['Installation Included'],drop_first=True,prefix='install')"
   ]
  },
  {
   "cell_type": "code",
   "execution_count": 82,
   "id": "protective-whale",
   "metadata": {},
   "outputs": [],
   "source": [
    "express = pd.get_dummies(data=train['Express Shipment'],drop_first=True,prefix='express')"
   ]
  },
  {
   "cell_type": "code",
   "execution_count": 83,
   "id": "comparable-advantage",
   "metadata": {},
   "outputs": [],
   "source": [
    "frag = pd.get_dummies(data=train['Fragile'],drop_first=True,prefix='fragile')"
   ]
  },
  {
   "cell_type": "code",
   "execution_count": 149,
   "id": "silver-hopkins",
   "metadata": {},
   "outputs": [],
   "source": [
    "cust_class = pd.get_dummies(data=train['Customer Information'],drop_first=True)"
   ]
  },
  {
   "cell_type": "code",
   "execution_count": 94,
   "id": "positive-broadcast",
   "metadata": {},
   "outputs": [],
   "source": [
    "materials = pd.get_dummies(data=train['Material'],drop_first=True,prefix='material')"
   ]
  },
  {
   "cell_type": "code",
   "execution_count": 150,
   "id": "obvious-people",
   "metadata": {},
   "outputs": [],
   "source": [
    "train = pd.concat([train,intern,install,express,frag,cust_class,materials],axis=1)"
   ]
  },
  {
   "cell_type": "code",
   "execution_count": 155,
   "id": "varying-journey",
   "metadata": {},
   "outputs": [
    {
     "data": {
      "text/html": [
       "<div>\n",
       "<style scoped>\n",
       "    .dataframe tbody tr th:only-of-type {\n",
       "        vertical-align: middle;\n",
       "    }\n",
       "\n",
       "    .dataframe tbody tr th {\n",
       "        vertical-align: top;\n",
       "    }\n",
       "\n",
       "    .dataframe thead th {\n",
       "        text-align: right;\n",
       "    }\n",
       "</style>\n",
       "<table border=\"1\" class=\"dataframe\">\n",
       "  <thead>\n",
       "    <tr style=\"text-align: right;\">\n",
       "      <th></th>\n",
       "      <th>Customer Id</th>\n",
       "      <th>Artist Reputation</th>\n",
       "      <th>Height</th>\n",
       "      <th>Width</th>\n",
       "      <th>Weight</th>\n",
       "      <th>Price Of Sculpture</th>\n",
       "      <th>Base Shipping Price</th>\n",
       "      <th>Cost</th>\n",
       "      <th>intern_Yes</th>\n",
       "      <th>install_Yes</th>\n",
       "      <th>express_Yes</th>\n",
       "      <th>fragile_Yes</th>\n",
       "      <th>Working Class</th>\n",
       "      <th>material_Aluminium</th>\n",
       "      <th>material_Brass</th>\n",
       "      <th>material_Bronze</th>\n",
       "      <th>material_Clay</th>\n",
       "      <th>material_Marble</th>\n",
       "      <th>material_Stone</th>\n",
       "      <th>material_Wood</th>\n",
       "    </tr>\n",
       "  </thead>\n",
       "  <tbody>\n",
       "    <tr>\n",
       "      <th>0</th>\n",
       "      <td>fffe3900350033003300</td>\n",
       "      <td>0.26</td>\n",
       "      <td>17.0</td>\n",
       "      <td>6.000000</td>\n",
       "      <td>4128.000000</td>\n",
       "      <td>13.91</td>\n",
       "      <td>16.27</td>\n",
       "      <td>-283.29</td>\n",
       "      <td>1</td>\n",
       "      <td>0</td>\n",
       "      <td>1</td>\n",
       "      <td>0</td>\n",
       "      <td>1</td>\n",
       "      <td>0</td>\n",
       "      <td>1</td>\n",
       "      <td>0</td>\n",
       "      <td>0</td>\n",
       "      <td>0</td>\n",
       "      <td>0</td>\n",
       "      <td>0</td>\n",
       "    </tr>\n",
       "    <tr>\n",
       "      <th>1</th>\n",
       "      <td>fffe3800330031003900</td>\n",
       "      <td>0.28</td>\n",
       "      <td>3.0</td>\n",
       "      <td>3.000000</td>\n",
       "      <td>61.000000</td>\n",
       "      <td>6.83</td>\n",
       "      <td>15.00</td>\n",
       "      <td>-159.96</td>\n",
       "      <td>0</td>\n",
       "      <td>0</td>\n",
       "      <td>0</td>\n",
       "      <td>0</td>\n",
       "      <td>1</td>\n",
       "      <td>0</td>\n",
       "      <td>1</td>\n",
       "      <td>0</td>\n",
       "      <td>0</td>\n",
       "      <td>0</td>\n",
       "      <td>0</td>\n",
       "      <td>0</td>\n",
       "    </tr>\n",
       "    <tr>\n",
       "      <th>2</th>\n",
       "      <td>fffe3600370035003100</td>\n",
       "      <td>0.07</td>\n",
       "      <td>8.0</td>\n",
       "      <td>5.000000</td>\n",
       "      <td>237.000000</td>\n",
       "      <td>4.96</td>\n",
       "      <td>21.18</td>\n",
       "      <td>-154.29</td>\n",
       "      <td>0</td>\n",
       "      <td>0</td>\n",
       "      <td>0</td>\n",
       "      <td>1</td>\n",
       "      <td>1</td>\n",
       "      <td>0</td>\n",
       "      <td>0</td>\n",
       "      <td>0</td>\n",
       "      <td>1</td>\n",
       "      <td>0</td>\n",
       "      <td>0</td>\n",
       "      <td>0</td>\n",
       "    </tr>\n",
       "    <tr>\n",
       "      <th>3</th>\n",
       "      <td>fffe350031003300</td>\n",
       "      <td>0.12</td>\n",
       "      <td>9.0</td>\n",
       "      <td>9.617647</td>\n",
       "      <td>400694.821918</td>\n",
       "      <td>5.81</td>\n",
       "      <td>16.31</td>\n",
       "      <td>-161.16</td>\n",
       "      <td>0</td>\n",
       "      <td>0</td>\n",
       "      <td>0</td>\n",
       "      <td>0</td>\n",
       "      <td>0</td>\n",
       "      <td>1</td>\n",
       "      <td>0</td>\n",
       "      <td>0</td>\n",
       "      <td>0</td>\n",
       "      <td>0</td>\n",
       "      <td>0</td>\n",
       "      <td>0</td>\n",
       "    </tr>\n",
       "    <tr>\n",
       "      <th>4</th>\n",
       "      <td>fffe3900320038003400</td>\n",
       "      <td>0.15</td>\n",
       "      <td>17.0</td>\n",
       "      <td>6.000000</td>\n",
       "      <td>324.000000</td>\n",
       "      <td>3.18</td>\n",
       "      <td>11.94</td>\n",
       "      <td>-159.23</td>\n",
       "      <td>1</td>\n",
       "      <td>1</td>\n",
       "      <td>1</td>\n",
       "      <td>0</td>\n",
       "      <td>1</td>\n",
       "      <td>1</td>\n",
       "      <td>0</td>\n",
       "      <td>0</td>\n",
       "      <td>0</td>\n",
       "      <td>0</td>\n",
       "      <td>0</td>\n",
       "      <td>0</td>\n",
       "    </tr>\n",
       "  </tbody>\n",
       "</table>\n",
       "</div>"
      ],
      "text/plain": [
       "            Customer Id  Artist Reputation  Height     Width         Weight  \\\n",
       "0  fffe3900350033003300               0.26    17.0  6.000000    4128.000000   \n",
       "1  fffe3800330031003900               0.28     3.0  3.000000      61.000000   \n",
       "2  fffe3600370035003100               0.07     8.0  5.000000     237.000000   \n",
       "3      fffe350031003300               0.12     9.0  9.617647  400694.821918   \n",
       "4  fffe3900320038003400               0.15    17.0  6.000000     324.000000   \n",
       "\n",
       "   Price Of Sculpture  Base Shipping Price    Cost  intern_Yes  install_Yes  \\\n",
       "0               13.91                16.27 -283.29           1            0   \n",
       "1                6.83                15.00 -159.96           0            0   \n",
       "2                4.96                21.18 -154.29           0            0   \n",
       "3                5.81                16.31 -161.16           0            0   \n",
       "4                3.18                11.94 -159.23           1            1   \n",
       "\n",
       "   express_Yes  fragile_Yes  Working Class  material_Aluminium  \\\n",
       "0            1            0              1                   0   \n",
       "1            0            0              1                   0   \n",
       "2            0            1              1                   0   \n",
       "3            0            0              0                   1   \n",
       "4            1            0              1                   1   \n",
       "\n",
       "   material_Brass  material_Bronze  material_Clay  material_Marble  \\\n",
       "0               1                0              0                0   \n",
       "1               1                0              0                0   \n",
       "2               0                0              1                0   \n",
       "3               0                0              0                0   \n",
       "4               0                0              0                0   \n",
       "\n",
       "   material_Stone  material_Wood  \n",
       "0               0              0  \n",
       "1               0              0  \n",
       "2               0              0  \n",
       "3               0              0  \n",
       "4               0              0  "
      ]
     },
     "execution_count": 155,
     "metadata": {},
     "output_type": "execute_result"
    }
   ],
   "source": [
    "train.head()"
   ]
  },
  {
   "cell_type": "code",
   "execution_count": 214,
   "id": "executed-fetish",
   "metadata": {},
   "outputs": [],
   "source": [
    "X = train[['Artist Reputation', 'Height', 'Width', 'Weight',\n",
    "       'Price Of Sculpture', 'Base Shipping Price', 'Working Class',\n",
    "       'intern_Yes', 'install_Yes', 'express_Yes', 'fragile_Yes', 'material_Brass', 'material_Bronze',\n",
    "       'material_Clay', 'material_Marble', 'material_Stone', 'material_Wood']]"
   ]
  },
  {
   "cell_type": "code",
   "execution_count": 215,
   "id": "faced-lucas",
   "metadata": {},
   "outputs": [],
   "source": [
    "Y = train['Cost'].abs()"
   ]
  },
  {
   "cell_type": "markdown",
   "id": "manual-paragraph",
   "metadata": {},
   "source": [
    "<h2> Training and fitting model </h2>"
   ]
  },
  {
   "cell_type": "code",
   "execution_count": 165,
   "id": "sixth-trouble",
   "metadata": {},
   "outputs": [],
   "source": [
    "from sklearn.model_selection import train_test_split"
   ]
  },
  {
   "cell_type": "code",
   "execution_count": 166,
   "id": "foreign-blackberry",
   "metadata": {},
   "outputs": [],
   "source": [
    "X_train, X_test, y_train, y_test = train_test_split( X, Y, test_size=0.3, random_state=50)"
   ]
  },
  {
   "cell_type": "code",
   "execution_count": 174,
   "id": "amber-nature",
   "metadata": {},
   "outputs": [],
   "source": [
    "from sklearn.ensemble import RandomForestRegressor"
   ]
  },
  {
   "cell_type": "code",
   "execution_count": 216,
   "id": "severe-fisher",
   "metadata": {},
   "outputs": [],
   "source": [
    "rfg = RandomForestRegressor()"
   ]
  },
  {
   "cell_type": "code",
   "execution_count": 217,
   "id": "sonic-intake",
   "metadata": {},
   "outputs": [
    {
     "data": {
      "text/plain": [
       "RandomForestRegressor()"
      ]
     },
     "execution_count": 217,
     "metadata": {},
     "output_type": "execute_result"
    }
   ],
   "source": [
    "rfg.fit(X,Y)"
   ]
  },
  {
   "cell_type": "markdown",
   "id": "adequate-spray",
   "metadata": {},
   "source": [
    "<h2>Cleaning Test data </h2>"
   ]
  },
  {
   "cell_type": "code",
   "execution_count": 181,
   "id": "interesting-burns",
   "metadata": {},
   "outputs": [],
   "source": [
    "test = pd.read_csv(\"test.csv\")"
   ]
  },
  {
   "cell_type": "code",
   "execution_count": 182,
   "id": "animated-secondary",
   "metadata": {},
   "outputs": [
    {
     "data": {
      "text/html": [
       "<div>\n",
       "<style scoped>\n",
       "    .dataframe tbody tr th:only-of-type {\n",
       "        vertical-align: middle;\n",
       "    }\n",
       "\n",
       "    .dataframe tbody tr th {\n",
       "        vertical-align: top;\n",
       "    }\n",
       "\n",
       "    .dataframe thead th {\n",
       "        text-align: right;\n",
       "    }\n",
       "</style>\n",
       "<table border=\"1\" class=\"dataframe\">\n",
       "  <thead>\n",
       "    <tr style=\"text-align: right;\">\n",
       "      <th></th>\n",
       "      <th>Customer Id</th>\n",
       "      <th>Artist Name</th>\n",
       "      <th>Artist Reputation</th>\n",
       "      <th>Height</th>\n",
       "      <th>Width</th>\n",
       "      <th>Weight</th>\n",
       "      <th>Material</th>\n",
       "      <th>Price Of Sculpture</th>\n",
       "      <th>Base Shipping Price</th>\n",
       "      <th>International</th>\n",
       "      <th>Express Shipment</th>\n",
       "      <th>Installation Included</th>\n",
       "      <th>Transport</th>\n",
       "      <th>Fragile</th>\n",
       "      <th>Customer Information</th>\n",
       "      <th>Remote Location</th>\n",
       "      <th>Scheduled Date</th>\n",
       "      <th>Delivery Date</th>\n",
       "      <th>Customer Location</th>\n",
       "    </tr>\n",
       "  </thead>\n",
       "  <tbody>\n",
       "    <tr>\n",
       "      <th>0</th>\n",
       "      <td>fffe3400310033003300</td>\n",
       "      <td>James Miller</td>\n",
       "      <td>0.35</td>\n",
       "      <td>53.0</td>\n",
       "      <td>18.0</td>\n",
       "      <td>871.0</td>\n",
       "      <td>Wood</td>\n",
       "      <td>5.98</td>\n",
       "      <td>19.11</td>\n",
       "      <td>Yes</td>\n",
       "      <td>Yes</td>\n",
       "      <td>No</td>\n",
       "      <td>Airways</td>\n",
       "      <td>No</td>\n",
       "      <td>Working Class</td>\n",
       "      <td>No</td>\n",
       "      <td>07/03/17</td>\n",
       "      <td>07/06/17</td>\n",
       "      <td>Santoshaven, IA 63481</td>\n",
       "    </tr>\n",
       "    <tr>\n",
       "      <th>1</th>\n",
       "      <td>fffe3600350035003400</td>\n",
       "      <td>Karen Vetrano</td>\n",
       "      <td>0.67</td>\n",
       "      <td>7.0</td>\n",
       "      <td>4.0</td>\n",
       "      <td>108.0</td>\n",
       "      <td>Clay</td>\n",
       "      <td>6.92</td>\n",
       "      <td>13.96</td>\n",
       "      <td>No</td>\n",
       "      <td>No</td>\n",
       "      <td>No</td>\n",
       "      <td>Roadways</td>\n",
       "      <td>Yes</td>\n",
       "      <td>Working Class</td>\n",
       "      <td>No</td>\n",
       "      <td>05/02/16</td>\n",
       "      <td>05/02/16</td>\n",
       "      <td>Ericksonton, OH 98253</td>\n",
       "    </tr>\n",
       "    <tr>\n",
       "      <th>2</th>\n",
       "      <td>fffe3700360030003500</td>\n",
       "      <td>Roseanne Gaona</td>\n",
       "      <td>0.61</td>\n",
       "      <td>6.0</td>\n",
       "      <td>5.0</td>\n",
       "      <td>97.0</td>\n",
       "      <td>Aluminium</td>\n",
       "      <td>4.23</td>\n",
       "      <td>13.62</td>\n",
       "      <td>Yes</td>\n",
       "      <td>No</td>\n",
       "      <td>No</td>\n",
       "      <td>Airways</td>\n",
       "      <td>No</td>\n",
       "      <td>Working Class</td>\n",
       "      <td>No</td>\n",
       "      <td>01/04/18</td>\n",
       "      <td>01/06/18</td>\n",
       "      <td>APO AP 83453</td>\n",
       "    </tr>\n",
       "    <tr>\n",
       "      <th>3</th>\n",
       "      <td>fffe350038003600</td>\n",
       "      <td>Todd Almanza</td>\n",
       "      <td>0.14</td>\n",
       "      <td>15.0</td>\n",
       "      <td>8.0</td>\n",
       "      <td>757.0</td>\n",
       "      <td>Clay</td>\n",
       "      <td>6.28</td>\n",
       "      <td>23.79</td>\n",
       "      <td>No</td>\n",
       "      <td>Yes</td>\n",
       "      <td>No</td>\n",
       "      <td>Roadways</td>\n",
       "      <td>Yes</td>\n",
       "      <td>Wealthy</td>\n",
       "      <td>No</td>\n",
       "      <td>09/14/17</td>\n",
       "      <td>09/17/17</td>\n",
       "      <td>Antonioborough, AL 54778</td>\n",
       "    </tr>\n",
       "    <tr>\n",
       "      <th>4</th>\n",
       "      <td>fffe3500390032003500</td>\n",
       "      <td>Francis Rivero</td>\n",
       "      <td>0.63</td>\n",
       "      <td>10.0</td>\n",
       "      <td>4.0</td>\n",
       "      <td>1673.0</td>\n",
       "      <td>Marble</td>\n",
       "      <td>4.39</td>\n",
       "      <td>17.83</td>\n",
       "      <td>No</td>\n",
       "      <td>Yes</td>\n",
       "      <td>Yes</td>\n",
       "      <td>Roadways</td>\n",
       "      <td>No</td>\n",
       "      <td>Working Class</td>\n",
       "      <td>Yes</td>\n",
       "      <td>12/03/17</td>\n",
       "      <td>12/02/17</td>\n",
       "      <td>Lake Frances, LA 03040</td>\n",
       "    </tr>\n",
       "  </tbody>\n",
       "</table>\n",
       "</div>"
      ],
      "text/plain": [
       "            Customer Id     Artist Name  Artist Reputation  Height  Width  \\\n",
       "0  fffe3400310033003300    James Miller               0.35    53.0   18.0   \n",
       "1  fffe3600350035003400   Karen Vetrano               0.67     7.0    4.0   \n",
       "2  fffe3700360030003500  Roseanne Gaona               0.61     6.0    5.0   \n",
       "3      fffe350038003600    Todd Almanza               0.14    15.0    8.0   \n",
       "4  fffe3500390032003500  Francis Rivero               0.63    10.0    4.0   \n",
       "\n",
       "   Weight   Material  Price Of Sculpture  Base Shipping Price International  \\\n",
       "0   871.0       Wood                5.98                19.11           Yes   \n",
       "1   108.0       Clay                6.92                13.96            No   \n",
       "2    97.0  Aluminium                4.23                13.62           Yes   \n",
       "3   757.0       Clay                6.28                23.79            No   \n",
       "4  1673.0     Marble                4.39                17.83            No   \n",
       "\n",
       "  Express Shipment Installation Included Transport Fragile  \\\n",
       "0              Yes                    No   Airways      No   \n",
       "1               No                    No  Roadways     Yes   \n",
       "2               No                    No   Airways      No   \n",
       "3              Yes                    No  Roadways     Yes   \n",
       "4              Yes                   Yes  Roadways      No   \n",
       "\n",
       "  Customer Information Remote Location Scheduled Date Delivery Date  \\\n",
       "0        Working Class              No       07/03/17      07/06/17   \n",
       "1        Working Class              No       05/02/16      05/02/16   \n",
       "2        Working Class              No       01/04/18      01/06/18   \n",
       "3              Wealthy              No       09/14/17      09/17/17   \n",
       "4        Working Class             Yes       12/03/17      12/02/17   \n",
       "\n",
       "          Customer Location  \n",
       "0     Santoshaven, IA 63481  \n",
       "1     Ericksonton, OH 98253  \n",
       "2              APO AP 83453  \n",
       "3  Antonioborough, AL 54778  \n",
       "4    Lake Frances, LA 03040  "
      ]
     },
     "execution_count": 182,
     "metadata": {},
     "output_type": "execute_result"
    }
   ],
   "source": [
    "test.head()"
   ]
  },
  {
   "cell_type": "code",
   "execution_count": 191,
   "id": "detailed-municipality",
   "metadata": {},
   "outputs": [
    {
     "data": {
      "text/plain": [
       "<AxesSubplot:>"
      ]
     },
     "execution_count": 191,
     "metadata": {},
     "output_type": "execute_result"
    },
    {
     "data": {
      "image/png": "[encoded data removed]",
      "text/plain": [
       "<Figure size 432x288 with 1 Axes>"
      ]
     },
     "metadata": {
      "needs_background": "light"
     },
     "output_type": "display_data"
    }
   ],
   "source": [
    "sns.heatmap(test.isnull(),yticklabels=False,cbar=False)"
   ]
  },
  {
   "cell_type": "code",
   "execution_count": 184,
   "id": "three-institute",
   "metadata": {},
   "outputs": [],
   "source": [
    "test['Artist Reputation'] = test['Artist Reputation'].apply(impute_artist)"
   ]
  },
  {
   "cell_type": "code",
   "execution_count": 185,
   "id": "universal-lyric",
   "metadata": {},
   "outputs": [],
   "source": [
    "test['Height'] = test['Height'].apply(impute_Height)"
   ]
  },
  {
   "cell_type": "code",
   "execution_count": 186,
   "id": "absolute-prospect",
   "metadata": {},
   "outputs": [],
   "source": [
    "test['Width'] = test['Width'].apply(impute_width)"
   ]
  },
  {
   "cell_type": "code",
   "execution_count": 187,
   "id": "through-hello",
   "metadata": {},
   "outputs": [],
   "source": [
    "test['Weight'] = test['Weight'].apply(impute_weight)"
   ]
  },
  {
   "cell_type": "code",
   "execution_count": 189,
   "id": "natural-bloom",
   "metadata": {},
   "outputs": [],
   "source": [
    "test.drop('Transport',axis=1,inplace=True)"
   ]
  },
  {
   "cell_type": "code",
   "execution_count": 193,
   "id": "geographic-regular",
   "metadata": {},
   "outputs": [],
   "source": [
    "interns = pd.get_dummies(data=test['International'],drop_first=True,prefix='intern')"
   ]
  },
  {
   "cell_type": "code",
   "execution_count": 194,
   "id": "assisted-league",
   "metadata": {},
   "outputs": [],
   "source": [
    "installs = pd.get_dummies(data=test['Installation Included'],drop_first=True,prefix='install')"
   ]
  },
  {
   "cell_type": "code",
   "execution_count": 195,
   "id": "extraordinary-while",
   "metadata": {},
   "outputs": [],
   "source": [
    "express_s = pd.get_dummies(data=test['Express Shipment'],drop_first=True,prefix='express')"
   ]
  },
  {
   "cell_type": "code",
   "execution_count": 196,
   "id": "changed-ribbon",
   "metadata": {},
   "outputs": [],
   "source": [
    "frag = pd.get_dummies(data=test['Fragile'],drop_first=True,prefix='fragile')"
   ]
  },
  {
   "cell_type": "code",
   "execution_count": 198,
   "id": "intelligent-latino",
   "metadata": {},
   "outputs": [],
   "source": [
    "materials = pd.get_dummies(data=test['Material'],drop_first=True,prefix='material')"
   ]
  },
  {
   "cell_type": "code",
   "execution_count": 199,
   "id": "royal-alberta",
   "metadata": {},
   "outputs": [],
   "source": [
    "cust_class = pd.get_dummies(data=test['Customer Information'],drop_first=True)"
   ]
  },
  {
   "cell_type": "code",
   "execution_count": 200,
   "id": "liquid-diamond",
   "metadata": {},
   "outputs": [],
   "source": [
    "test = pd.concat([test,interns,installs,express_s,frag,cust_class,materials],axis=1)"
   ]
  },
  {
   "cell_type": "code",
   "execution_count": 203,
   "id": "supported-guess",
   "metadata": {},
   "outputs": [],
   "source": [
    "test.drop(['Artist Name','Material','International','Express Shipment','Installation Included','Fragile',\n",
    "           'Customer Information', 'Remote Location', 'Scheduled Date',\n",
    "       'Delivery Date', 'Customer Location',],axis=1,inplace=True)"
   ]
  },
  {
   "cell_type": "code",
   "execution_count": 204,
   "id": "disabled-deviation",
   "metadata": {},
   "outputs": [
    {
     "data": {
      "text/html": [
       "<div>\n",
       "<style scoped>\n",
       "    .dataframe tbody tr th:only-of-type {\n",
       "        vertical-align: middle;\n",
       "    }\n",
       "\n",
       "    .dataframe tbody tr th {\n",
       "        vertical-align: top;\n",
       "    }\n",
       "\n",
       "    .dataframe thead th {\n",
       "        text-align: right;\n",
       "    }\n",
       "</style>\n",
       "<table border=\"1\" class=\"dataframe\">\n",
       "  <thead>\n",
       "    <tr style=\"text-align: right;\">\n",
       "      <th></th>\n",
       "      <th>Customer Id</th>\n",
       "      <th>Artist Reputation</th>\n",
       "      <th>Height</th>\n",
       "      <th>Width</th>\n",
       "      <th>Weight</th>\n",
       "      <th>Price Of Sculpture</th>\n",
       "      <th>Base Shipping Price</th>\n",
       "      <th>intern_Yes</th>\n",
       "      <th>install_Yes</th>\n",
       "      <th>express_Yes</th>\n",
       "      <th>fragile_Yes</th>\n",
       "      <th>Working Class</th>\n",
       "      <th>material_Brass</th>\n",
       "      <th>material_Bronze</th>\n",
       "      <th>material_Clay</th>\n",
       "      <th>material_Marble</th>\n",
       "      <th>material_Stone</th>\n",
       "      <th>material_Wood</th>\n",
       "    </tr>\n",
       "  </thead>\n",
       "  <tbody>\n",
       "    <tr>\n",
       "      <th>0</th>\n",
       "      <td>fffe3400310033003300</td>\n",
       "      <td>0.35</td>\n",
       "      <td>53.0</td>\n",
       "      <td>18.0</td>\n",
       "      <td>871.0</td>\n",
       "      <td>5.98</td>\n",
       "      <td>19.11</td>\n",
       "      <td>1</td>\n",
       "      <td>0</td>\n",
       "      <td>1</td>\n",
       "      <td>0</td>\n",
       "      <td>1</td>\n",
       "      <td>0</td>\n",
       "      <td>0</td>\n",
       "      <td>0</td>\n",
       "      <td>0</td>\n",
       "      <td>0</td>\n",
       "      <td>1</td>\n",
       "    </tr>\n",
       "    <tr>\n",
       "      <th>1</th>\n",
       "      <td>fffe3600350035003400</td>\n",
       "      <td>0.67</td>\n",
       "      <td>7.0</td>\n",
       "      <td>4.0</td>\n",
       "      <td>108.0</td>\n",
       "      <td>6.92</td>\n",
       "      <td>13.96</td>\n",
       "      <td>0</td>\n",
       "      <td>0</td>\n",
       "      <td>0</td>\n",
       "      <td>1</td>\n",
       "      <td>1</td>\n",
       "      <td>0</td>\n",
       "      <td>0</td>\n",
       "      <td>1</td>\n",
       "      <td>0</td>\n",
       "      <td>0</td>\n",
       "      <td>0</td>\n",
       "    </tr>\n",
       "    <tr>\n",
       "      <th>2</th>\n",
       "      <td>fffe3700360030003500</td>\n",
       "      <td>0.61</td>\n",
       "      <td>6.0</td>\n",
       "      <td>5.0</td>\n",
       "      <td>97.0</td>\n",
       "      <td>4.23</td>\n",
       "      <td>13.62</td>\n",
       "      <td>1</td>\n",
       "      <td>0</td>\n",
       "      <td>0</td>\n",
       "      <td>0</td>\n",
       "      <td>1</td>\n",
       "      <td>0</td>\n",
       "      <td>0</td>\n",
       "      <td>0</td>\n",
       "      <td>0</td>\n",
       "      <td>0</td>\n",
       "      <td>0</td>\n",
       "    </tr>\n",
       "    <tr>\n",
       "      <th>3</th>\n",
       "      <td>fffe350038003600</td>\n",
       "      <td>0.14</td>\n",
       "      <td>15.0</td>\n",
       "      <td>8.0</td>\n",
       "      <td>757.0</td>\n",
       "      <td>6.28</td>\n",
       "      <td>23.79</td>\n",
       "      <td>0</td>\n",
       "      <td>0</td>\n",
       "      <td>1</td>\n",
       "      <td>1</td>\n",
       "      <td>0</td>\n",
       "      <td>0</td>\n",
       "      <td>0</td>\n",
       "      <td>1</td>\n",
       "      <td>0</td>\n",
       "      <td>0</td>\n",
       "      <td>0</td>\n",
       "    </tr>\n",
       "    <tr>\n",
       "      <th>4</th>\n",
       "      <td>fffe3500390032003500</td>\n",
       "      <td>0.63</td>\n",
       "      <td>10.0</td>\n",
       "      <td>4.0</td>\n",
       "      <td>1673.0</td>\n",
       "      <td>4.39</td>\n",
       "      <td>17.83</td>\n",
       "      <td>0</td>\n",
       "      <td>1</td>\n",
       "      <td>1</td>\n",
       "      <td>0</td>\n",
       "      <td>1</td>\n",
       "      <td>0</td>\n",
       "      <td>0</td>\n",
       "      <td>0</td>\n",
       "      <td>1</td>\n",
       "      <td>0</td>\n",
       "      <td>0</td>\n",
       "    </tr>\n",
       "  </tbody>\n",
       "</table>\n",
       "</div>"
      ],
      "text/plain": [
       "            Customer Id  Artist Reputation  Height  Width  Weight  \\\n",
       "0  fffe3400310033003300               0.35    53.0   18.0   871.0   \n",
       "1  fffe3600350035003400               0.67     7.0    4.0   108.0   \n",
       "2  fffe3700360030003500               0.61     6.0    5.0    97.0   \n",
       "3      fffe350038003600               0.14    15.0    8.0   757.0   \n",
       "4  fffe3500390032003500               0.63    10.0    4.0  1673.0   \n",
       "\n",
       "   Price Of Sculpture  Base Shipping Price  intern_Yes  install_Yes  \\\n",
       "0                5.98                19.11           1            0   \n",
       "1                6.92                13.96           0            0   \n",
       "2                4.23                13.62           1            0   \n",
       "3                6.28                23.79           0            0   \n",
       "4                4.39                17.83           0            1   \n",
       "\n",
       "   express_Yes  fragile_Yes  Working Class  material_Brass  material_Bronze  \\\n",
       "0            1            0              1               0                0   \n",
       "1            0            1              1               0                0   \n",
       "2            0            0              1               0                0   \n",
       "3            1            1              0               0                0   \n",
       "4            1            0              1               0                0   \n",
       "\n",
       "   material_Clay  material_Marble  material_Stone  material_Wood  \n",
       "0              0                0               0              1  \n",
       "1              1                0               0              0  \n",
       "2              0                0               0              0  \n",
       "3              1                0               0              0  \n",
       "4              0                1               0              0  "
      ]
     },
     "execution_count": 204,
     "metadata": {},
     "output_type": "execute_result"
    }
   ],
   "source": [
    "test.head()"
   ]
  },
  {
   "cell_type": "code",
   "execution_count": 209,
   "id": "different-latex",
   "metadata": {},
   "outputs": [
    {
     "data": {
      "text/html": [
       "<div>\n",
       "<style scoped>\n",
       "    .dataframe tbody tr th:only-of-type {\n",
       "        vertical-align: middle;\n",
       "    }\n",
       "\n",
       "    .dataframe tbody tr th {\n",
       "        vertical-align: top;\n",
       "    }\n",
       "\n",
       "    .dataframe thead th {\n",
       "        text-align: right;\n",
       "    }\n",
       "</style>\n",
       "<table border=\"1\" class=\"dataframe\">\n",
       "  <thead>\n",
       "    <tr style=\"text-align: right;\">\n",
       "      <th></th>\n",
       "      <th>Artist Reputation</th>\n",
       "      <th>Height</th>\n",
       "      <th>Width</th>\n",
       "      <th>Weight</th>\n",
       "      <th>Price Of Sculpture</th>\n",
       "      <th>Base Shipping Price</th>\n",
       "      <th>intern_Yes</th>\n",
       "      <th>install_Yes</th>\n",
       "      <th>express_Yes</th>\n",
       "      <th>fragile_Yes</th>\n",
       "      <th>Working Class</th>\n",
       "      <th>material_Brass</th>\n",
       "      <th>material_Bronze</th>\n",
       "      <th>material_Clay</th>\n",
       "      <th>material_Marble</th>\n",
       "      <th>material_Stone</th>\n",
       "      <th>material_Wood</th>\n",
       "    </tr>\n",
       "  </thead>\n",
       "  <tbody>\n",
       "    <tr>\n",
       "      <th>0</th>\n",
       "      <td>0.35000</td>\n",
       "      <td>53.0</td>\n",
       "      <td>18.0</td>\n",
       "      <td>871.000000</td>\n",
       "      <td>5.98</td>\n",
       "      <td>19.11</td>\n",
       "      <td>1</td>\n",
       "      <td>0</td>\n",
       "      <td>1</td>\n",
       "      <td>0</td>\n",
       "      <td>1</td>\n",
       "      <td>0</td>\n",
       "      <td>0</td>\n",
       "      <td>0</td>\n",
       "      <td>0</td>\n",
       "      <td>0</td>\n",
       "      <td>1</td>\n",
       "    </tr>\n",
       "    <tr>\n",
       "      <th>1</th>\n",
       "      <td>0.67000</td>\n",
       "      <td>7.0</td>\n",
       "      <td>4.0</td>\n",
       "      <td>108.000000</td>\n",
       "      <td>6.92</td>\n",
       "      <td>13.96</td>\n",
       "      <td>0</td>\n",
       "      <td>0</td>\n",
       "      <td>0</td>\n",
       "      <td>1</td>\n",
       "      <td>1</td>\n",
       "      <td>0</td>\n",
       "      <td>0</td>\n",
       "      <td>1</td>\n",
       "      <td>0</td>\n",
       "      <td>0</td>\n",
       "      <td>0</td>\n",
       "    </tr>\n",
       "    <tr>\n",
       "      <th>2</th>\n",
       "      <td>0.61000</td>\n",
       "      <td>6.0</td>\n",
       "      <td>5.0</td>\n",
       "      <td>97.000000</td>\n",
       "      <td>4.23</td>\n",
       "      <td>13.62</td>\n",
       "      <td>1</td>\n",
       "      <td>0</td>\n",
       "      <td>0</td>\n",
       "      <td>0</td>\n",
       "      <td>1</td>\n",
       "      <td>0</td>\n",
       "      <td>0</td>\n",
       "      <td>0</td>\n",
       "      <td>0</td>\n",
       "      <td>0</td>\n",
       "      <td>0</td>\n",
       "    </tr>\n",
       "    <tr>\n",
       "      <th>3</th>\n",
       "      <td>0.14000</td>\n",
       "      <td>15.0</td>\n",
       "      <td>8.0</td>\n",
       "      <td>757.000000</td>\n",
       "      <td>6.28</td>\n",
       "      <td>23.79</td>\n",
       "      <td>0</td>\n",
       "      <td>0</td>\n",
       "      <td>1</td>\n",
       "      <td>1</td>\n",
       "      <td>0</td>\n",
       "      <td>0</td>\n",
       "      <td>0</td>\n",
       "      <td>1</td>\n",
       "      <td>0</td>\n",
       "      <td>0</td>\n",
       "      <td>0</td>\n",
       "    </tr>\n",
       "    <tr>\n",
       "      <th>4</th>\n",
       "      <td>0.63000</td>\n",
       "      <td>10.0</td>\n",
       "      <td>4.0</td>\n",
       "      <td>1673.000000</td>\n",
       "      <td>4.39</td>\n",
       "      <td>17.83</td>\n",
       "      <td>0</td>\n",
       "      <td>1</td>\n",
       "      <td>1</td>\n",
       "      <td>0</td>\n",
       "      <td>1</td>\n",
       "      <td>0</td>\n",
       "      <td>0</td>\n",
       "      <td>0</td>\n",
       "      <td>1</td>\n",
       "      <td>0</td>\n",
       "      <td>0</td>\n",
       "    </tr>\n",
       "    <tr>\n",
       "      <th>...</th>\n",
       "      <td>...</td>\n",
       "      <td>...</td>\n",
       "      <td>...</td>\n",
       "      <td>...</td>\n",
       "      <td>...</td>\n",
       "      <td>...</td>\n",
       "      <td>...</td>\n",
       "      <td>...</td>\n",
       "      <td>...</td>\n",
       "      <td>...</td>\n",
       "      <td>...</td>\n",
       "      <td>...</td>\n",
       "      <td>...</td>\n",
       "      <td>...</td>\n",
       "      <td>...</td>\n",
       "      <td>...</td>\n",
       "      <td>...</td>\n",
       "    </tr>\n",
       "    <tr>\n",
       "      <th>3495</th>\n",
       "      <td>0.36000</td>\n",
       "      <td>13.0</td>\n",
       "      <td>6.0</td>\n",
       "      <td>23511.000000</td>\n",
       "      <td>78.01</td>\n",
       "      <td>88.70</td>\n",
       "      <td>0</td>\n",
       "      <td>0</td>\n",
       "      <td>1</td>\n",
       "      <td>0</td>\n",
       "      <td>0</td>\n",
       "      <td>0</td>\n",
       "      <td>0</td>\n",
       "      <td>0</td>\n",
       "      <td>1</td>\n",
       "      <td>0</td>\n",
       "      <td>0</td>\n",
       "    </tr>\n",
       "    <tr>\n",
       "      <th>3496</th>\n",
       "      <td>0.72000</td>\n",
       "      <td>29.0</td>\n",
       "      <td>14.0</td>\n",
       "      <td>400694.821918</td>\n",
       "      <td>214.85</td>\n",
       "      <td>80.28</td>\n",
       "      <td>1</td>\n",
       "      <td>0</td>\n",
       "      <td>1</td>\n",
       "      <td>0</td>\n",
       "      <td>0</td>\n",
       "      <td>0</td>\n",
       "      <td>1</td>\n",
       "      <td>0</td>\n",
       "      <td>0</td>\n",
       "      <td>0</td>\n",
       "      <td>0</td>\n",
       "    </tr>\n",
       "    <tr>\n",
       "      <th>3497</th>\n",
       "      <td>0.59000</td>\n",
       "      <td>12.0</td>\n",
       "      <td>6.0</td>\n",
       "      <td>400694.821918</td>\n",
       "      <td>8.91</td>\n",
       "      <td>19.58</td>\n",
       "      <td>0</td>\n",
       "      <td>1</td>\n",
       "      <td>0</td>\n",
       "      <td>0</td>\n",
       "      <td>1</td>\n",
       "      <td>1</td>\n",
       "      <td>0</td>\n",
       "      <td>0</td>\n",
       "      <td>0</td>\n",
       "      <td>0</td>\n",
       "      <td>0</td>\n",
       "    </tr>\n",
       "    <tr>\n",
       "      <th>3498</th>\n",
       "      <td>0.46185</td>\n",
       "      <td>17.0</td>\n",
       "      <td>9.0</td>\n",
       "      <td>565.000000</td>\n",
       "      <td>6.75</td>\n",
       "      <td>10.89</td>\n",
       "      <td>0</td>\n",
       "      <td>1</td>\n",
       "      <td>1</td>\n",
       "      <td>0</td>\n",
       "      <td>0</td>\n",
       "      <td>0</td>\n",
       "      <td>0</td>\n",
       "      <td>0</td>\n",
       "      <td>0</td>\n",
       "      <td>0</td>\n",
       "      <td>0</td>\n",
       "    </tr>\n",
       "    <tr>\n",
       "      <th>3499</th>\n",
       "      <td>0.97000</td>\n",
       "      <td>25.0</td>\n",
       "      <td>11.0</td>\n",
       "      <td>989903.000000</td>\n",
       "      <td>4768.42</td>\n",
       "      <td>31.38</td>\n",
       "      <td>0</td>\n",
       "      <td>0</td>\n",
       "      <td>1</td>\n",
       "      <td>0</td>\n",
       "      <td>1</td>\n",
       "      <td>0</td>\n",
       "      <td>0</td>\n",
       "      <td>0</td>\n",
       "      <td>0</td>\n",
       "      <td>1</td>\n",
       "      <td>0</td>\n",
       "    </tr>\n",
       "  </tbody>\n",
       "</table>\n",
       "<p>3500 rows × 17 columns</p>\n",
       "</div>"
      ],
      "text/plain": [
       "      Artist Reputation  Height  Width         Weight  Price Of Sculpture  \\\n",
       "0               0.35000    53.0   18.0     871.000000                5.98   \n",
       "1               0.67000     7.0    4.0     108.000000                6.92   \n",
       "2               0.61000     6.0    5.0      97.000000                4.23   \n",
       "3               0.14000    15.0    8.0     757.000000                6.28   \n",
       "4               0.63000    10.0    4.0    1673.000000                4.39   \n",
       "...                 ...     ...    ...            ...                 ...   \n",
       "3495            0.36000    13.0    6.0   23511.000000               78.01   \n",
       "3496            0.72000    29.0   14.0  400694.821918              214.85   \n",
       "3497            0.59000    12.0    6.0  400694.821918                8.91   \n",
       "3498            0.46185    17.0    9.0     565.000000                6.75   \n",
       "3499            0.97000    25.0   11.0  989903.000000             4768.42   \n",
       "\n",
       "      Base Shipping Price  intern_Yes  install_Yes  express_Yes  fragile_Yes  \\\n",
       "0                   19.11           1            0            1            0   \n",
       "1                   13.96           0            0            0            1   \n",
       "2                   13.62           1            0            0            0   \n",
       "3                   23.79           0            0            1            1   \n",
       "4                   17.83           0            1            1            0   \n",
       "...                   ...         ...          ...          ...          ...   \n",
       "3495                88.70           0            0            1            0   \n",
       "3496                80.28           1            0            1            0   \n",
       "3497                19.58           0            1            0            0   \n",
       "3498                10.89           0            1            1            0   \n",
       "3499                31.38           0            0            1            0   \n",
       "\n",
       "      Working Class  material_Brass  material_Bronze  material_Clay  \\\n",
       "0                 1               0                0              0   \n",
       "1                 1               0                0              1   \n",
       "2                 1               0                0              0   \n",
       "3                 0               0                0              1   \n",
       "4                 1               0                0              0   \n",
       "...             ...             ...              ...            ...   \n",
       "3495              0               0                0              0   \n",
       "3496              0               0                1              0   \n",
       "3497              1               1                0              0   \n",
       "3498              0               0                0              0   \n",
       "3499              1               0                0              0   \n",
       "\n",
       "      material_Marble  material_Stone  material_Wood  \n",
       "0                   0               0              1  \n",
       "1                   0               0              0  \n",
       "2                   0               0              0  \n",
       "3                   0               0              0  \n",
       "4                   1               0              0  \n",
       "...               ...             ...            ...  \n",
       "3495                1               0              0  \n",
       "3496                0               0              0  \n",
       "3497                0               0              0  \n",
       "3498                0               0              0  \n",
       "3499                0               1              0  \n",
       "\n",
       "[3500 rows x 17 columns]"
      ]
     },
     "execution_count": 209,
     "metadata": {},
     "output_type": "execute_result"
    }
   ],
   "source": [
    "X_test_1 "
   ]
  },
  {
   "cell_type": "code",
   "execution_count": 218,
   "id": "aboriginal-therapist",
   "metadata": {},
   "outputs": [],
   "source": [
    "pred_2 = rfg.predict(X_test_1)"
   ]
  },
  {
   "cell_type": "code",
   "execution_count": 219,
   "id": "differential-middle",
   "metadata": {},
   "outputs": [
    {
     "data": {
      "text/plain": [
       "array([   258.625 ,    299.7291,    208.0694, ...,   1366.6448,\n",
       "          292.5057, 132091.8473])"
      ]
     },
     "execution_count": 219,
     "metadata": {},
     "output_type": "execute_result"
    }
   ],
   "source": [
    "pred_2"
   ]
  },
  {
   "cell_type": "code",
   "execution_count": 220,
   "id": "announced-establishment",
   "metadata": {},
   "outputs": [],
   "source": [
    "df = pd.DataFrame()"
   ]
  },
  {
   "cell_type": "code",
   "execution_count": 222,
   "id": "ranking-reducing",
   "metadata": {},
   "outputs": [],
   "source": [
    "df['Customer Id']=test['Customer Id']\n",
    "df['Cost']=pred_2"
   ]
  },
  {
   "cell_type": "code",
   "execution_count": 223,
   "id": "following-independence",
   "metadata": {},
   "outputs": [
    {
     "data": {
      "text/html": [
       "<div>\n",
       "<style scoped>\n",
       "    .dataframe tbody tr th:only-of-type {\n",
       "        vertical-align: middle;\n",
       "    }\n",
       "\n",
       "    .dataframe tbody tr th {\n",
       "        vertical-align: top;\n",
       "    }\n",
       "\n",
       "    .dataframe thead th {\n",
       "        text-align: right;\n",
       "    }\n",
       "</style>\n",
       "<table border=\"1\" class=\"dataframe\">\n",
       "  <thead>\n",
       "    <tr style=\"text-align: right;\">\n",
       "      <th></th>\n",
       "      <th>Customer Id</th>\n",
       "      <th>Cost</th>\n",
       "    </tr>\n",
       "  </thead>\n",
       "  <tbody>\n",
       "    <tr>\n",
       "      <th>0</th>\n",
       "      <td>fffe3400310033003300</td>\n",
       "      <td>258.6250</td>\n",
       "    </tr>\n",
       "    <tr>\n",
       "      <th>1</th>\n",
       "      <td>fffe3600350035003400</td>\n",
       "      <td>299.7291</td>\n",
       "    </tr>\n",
       "    <tr>\n",
       "      <th>2</th>\n",
       "      <td>fffe3700360030003500</td>\n",
       "      <td>208.0694</td>\n",
       "    </tr>\n",
       "    <tr>\n",
       "      <th>3</th>\n",
       "      <td>fffe350038003600</td>\n",
       "      <td>220.3725</td>\n",
       "    </tr>\n",
       "    <tr>\n",
       "      <th>4</th>\n",
       "      <td>fffe3500390032003500</td>\n",
       "      <td>307.7632</td>\n",
       "    </tr>\n",
       "  </tbody>\n",
       "</table>\n",
       "</div>"
      ],
      "text/plain": [
       "            Customer Id      Cost\n",
       "0  fffe3400310033003300  258.6250\n",
       "1  fffe3600350035003400  299.7291\n",
       "2  fffe3700360030003500  208.0694\n",
       "3      fffe350038003600  220.3725\n",
       "4  fffe3500390032003500  307.7632"
      ]
     },
     "execution_count": 223,
     "metadata": {},
     "output_type": "execute_result"
    }
   ],
   "source": [
    "df.head()"
   ]
  },
  {
   "cell_type": "code",
   "execution_count": 224,
   "id": "presidential-attendance",
   "metadata": {},
   "outputs": [],
   "source": [
    "df.to_csv('result.csv',index=False)"
   ]
  },
  {
   "cell_type": "code",
   "execution_count": null,
   "id": "universal-vaccine",
   "metadata": {},
   "outputs": [],
   "source": []
  }
 ],
 "metadata": {
  "kernelspec": {
   "display_name": "Python 3",
   "language": "python",
   "name": "python3"
  },
  "language_info": {
   "codemirror_mode": {
    "name": "ipython",
    "version": 3
   },
   "file_extension": ".py",
   "mimetype": "text/x-python",
   "name": "python",
   "nbconvert_exporter": "python",
   "pygments_lexer": "ipython3",
   "version": "3.7.5"
  }
 },
 "nbformat": 4,
 "nbformat_minor": 5
}
